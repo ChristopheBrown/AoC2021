{
 "cells": [
  {
   "cell_type": "code",
   "execution_count": 1,
   "id": "aa3ba0c6",
   "metadata": {},
   "outputs": [],
   "source": [
    "import numpy as np"
   ]
  },
  {
   "cell_type": "code",
   "execution_count": 2,
   "id": "2dc38f5a",
   "metadata": {},
   "outputs": [],
   "source": [
    "demo_data = '''0,9 -> 5,9\n",
    "8,0 -> 0,8\n",
    "9,4 -> 3,4\n",
    "2,2 -> 2,1\n",
    "7,0 -> 7,4\n",
    "6,4 -> 2,0\n",
    "0,9 -> 2,9\n",
    "3,4 -> 1,4\n",
    "0,0 -> 8,8\n",
    "5,5 -> 8,2'''\n",
    "\n",
    "with open(\"data/data-5.txt\", \"r\", encoding=\"utf-8\") as g:\n",
    "    data = g.read()"
   ]
  },
  {
   "cell_type": "code",
   "execution_count": 3,
   "id": "b5edbb50",
   "metadata": {},
   "outputs": [],
   "source": [
    "def get_steps(initial, final):\n",
    "    steps = []\n",
    "    \n",
    "    x1, y1 = initial\n",
    "    x2, y2 = final\n",
    "    \n",
    "    x_steps = list(range(x1, x2+1, 1) if x1 < x2 else range(x1, x2-1, -1))\n",
    "    y_steps = list(range(y1, y2+1, 1) if y1 < y2 else range(y1, y2-1, -1))\n",
    "    \n",
    "    while len(x_steps) > 0 or len(y_steps) > 0:\n",
    "        if len(x_steps) > 0 and len(y_steps) == 0:\n",
    "            steps.append((x_steps[0],y1))\n",
    "            x_steps.pop(0)\n",
    "            \n",
    "        elif len(y_steps) > 0 and len(x_steps) == 0: \n",
    "            steps.append((x1, y_steps[0]))\n",
    "            y_steps.pop(0)\n",
    "            \n",
    "        else: \n",
    "            steps.append((x_steps[0], y_steps[0]))\n",
    "            x_steps.pop(0)\n",
    "            y_steps.pop(0)\n",
    "    \n",
    "    return steps\n",
    "            \n",
    "def take_steps(data, dims=(1000,1000)):\n",
    "    arr = np.zeros(dims, dtype=np.uint8)\n",
    "    _data = data.split('\\n')\n",
    "    \n",
    "    for line in _data:\n",
    "        line_str = line.split(' -> ')\n",
    "        vector = tuple((int(pair.split(',')[0]), int(pair.split(',')[1])) for pair in line_str)\n",
    "\n",
    "        delta_y = vector[1][0] - vector[0][0]\n",
    "        delta_x = vector[1][1] - vector[0][1]\n",
    "\n",
    "        steps = get_steps(initial=vector[0], final=vector[1])\n",
    "\n",
    "        for step in steps:\n",
    "            arr[step] +=1\n",
    "            \n",
    "    return arr.T\n",
    "\n",
    "def count_overlap(arr):\n",
    "    unique, counts = np.unique(arr, return_counts=True)\n",
    "    summary = dict(zip(unique, counts))\n",
    "    total = 0\n",
    "    for key in list(summary.keys()):\n",
    "        if key > 1:\n",
    "            total += summary[key]\n",
    "    print(f'Total overlap: {total}')\n",
    "    return summary"
   ]
  },
  {
   "cell_type": "code",
   "execution_count": 4,
   "id": "9ec6ecff",
   "metadata": {},
   "outputs": [
    {
     "name": "stdout",
     "output_type": "stream",
     "text": [
      "Total overlap: 12\n"
     ]
    },
    {
     "data": {
      "text/plain": [
       "{0: 61, 1: 27, 2: 10, 3: 2}"
      ]
     },
     "execution_count": 4,
     "metadata": {},
     "output_type": "execute_result"
    }
   ],
   "source": [
    "arr = take_steps(demo_data, dims=(10,10))\n",
    "count_overlap(arr)"
   ]
  },
  {
   "cell_type": "code",
   "execution_count": 5,
   "id": "30ea9dd1",
   "metadata": {},
   "outputs": [
    {
     "name": "stdout",
     "output_type": "stream",
     "text": [
      "Total overlap: 21038\n"
     ]
    },
    {
     "data": {
      "text/plain": [
       "{0: 829212, 1: 149750, 2: 19328, 3: 1610, 4: 99, 5: 1}"
      ]
     },
     "execution_count": 5,
     "metadata": {},
     "output_type": "execute_result"
    }
   ],
   "source": [
    "arr = take_steps(data)\n",
    "count_overlap(arr)"
   ]
  }
 ],
 "metadata": {
  "kernelspec": {
   "display_name": "Python 3",
   "language": "python",
   "name": "python3"
  },
  "language_info": {
   "codemirror_mode": {
    "name": "ipython",
    "version": 3
   },
   "file_extension": ".py",
   "mimetype": "text/x-python",
   "name": "python",
   "nbconvert_exporter": "python",
   "pygments_lexer": "ipython3",
   "version": "3.8.12"
  }
 },
 "nbformat": 4,
 "nbformat_minor": 5
}

{
 "cells": [
  {
   "cell_type": "code",
   "execution_count": 1,
   "id": "a66ad2c0",
   "metadata": {},
   "outputs": [],
   "source": [
    "import numpy as np"
   ]
  },
  {
   "cell_type": "code",
   "execution_count": 2,
   "id": "c3f2451e",
   "metadata": {},
   "outputs": [],
   "source": [
    "demo_data = [\n",
    "    '00100',\n",
    "    '11110',\n",
    "    '10110',\n",
    "    '10111',\n",
    "    '10101',\n",
    "    '01111',\n",
    "    '00111',\n",
    "    '11100',\n",
    "    '10000',\n",
    "    '11001',\n",
    "    '00010',\n",
    "    '01010'\n",
    "]"
   ]
  },
  {
   "cell_type": "code",
   "execution_count": 3,
   "id": "f85de239",
   "metadata": {},
   "outputs": [],
   "source": [
    "class BinaryDiagnostic:\n",
    "    \n",
    "    def __init__(self, data, gas_flag=False):\n",
    "        self.gas_flag = gas_flag\n",
    "        self.data         = data.copy()\n",
    "        self.seq_length   = len(self.data[0])\n",
    "        self.digit_totals = np.zeros((2, self.seq_length))\n",
    "        \n",
    "        self.gamma_sequence   = np.zeros((self.seq_length,)).astype(int)\n",
    "        self.epsilon_sequence = np.zeros((self.seq_length,)).astype(int)\n",
    "        \n",
    "        self.gamma   = 0\n",
    "        self.epsilon = 0\n",
    "        \n",
    "        self.filtered_data = self.data\n",
    "        \n",
    "        self.oxygen_sequence = np.zeros((self.seq_length,)).astype(int)\n",
    "        self.co2_sequence    = np.zeros((self.seq_length,)).astype(int)\n",
    "        \n",
    "        self.oxygen = 0\n",
    "        self.co2    = 0\n",
    "        \n",
    "    def calculate_bit_totals(self, data):\n",
    "        for sequence in data:\n",
    "            self.check_binary(sequence)\n",
    "            \n",
    "    def check_binary(self, sequence):\n",
    "        for digit in range(self.seq_length):\n",
    "            self.digit_totals[int(sequence[digit])][digit] += 1\n",
    "            \n",
    "    def convert_binary_to_int(self, sequence):\n",
    "        return sequence.dot(2**np.arange(sequence.size)[::-1])\n",
    "        \n",
    "    def p1solution(self):\n",
    "        self.gamma   = self.convert_binary_to_int(self.gamma_sequence)\n",
    "        self.epsilon = self.convert_binary_to_int(self.epsilon_sequence)\n",
    "        print(f'gamma: {self.gamma}')\n",
    "        print(f'epsilon: {self.epsilon}')\n",
    "        self.p1 = self.gamma * self.epsilon\n",
    "                                            \n",
    "    def check_power_consumption(self):\n",
    "        self.calculate_bit_totals(self.data)\n",
    "            \n",
    "        for bit_idx in range(self.seq_length):\n",
    "            self.gamma_sequence[bit_idx]   = 1 if self.digit_totals[0][bit_idx] > self.digit_totals[1][bit_idx] else 0\n",
    "            \n",
    "        self.epsilon_sequence = np.logical_not(self.gamma_sequence).astype(int)\n",
    "            \n",
    "        print(f'gamma: {self.gamma_sequence} \\nepsilon: {self.epsilon_sequence}')\n",
    "        self.p1solution()\n",
    "        print(f'Part 1 solution = {self.p1}')\n",
    "        \n",
    "    def filter_data(self, bit, bit_idx):\n",
    "        drop_idx = []\n",
    "        \n",
    "        for sequence_idx in range(len(self.filtered_data)):\n",
    "            if int(self.filtered_data[sequence_idx][bit_idx]) != bit:\n",
    "                drop_idx.append(sequence_idx)\n",
    "                \n",
    "        for idx in sorted(drop_idx, reverse=True):\n",
    "            if len(self.filtered_data) < 2:\n",
    "                break\n",
    "            del self.filtered_data[idx]\n",
    "            \n",
    "    def check_life_support(self, oxygen_flag=False): \n",
    "             \n",
    "        for bit_idx in range(self.seq_length):\n",
    "            self.digit_totals = np.zeros((2, self.seq_length))\n",
    "            self.calculate_bit_totals(self.filtered_data)\n",
    "            \n",
    "            if oxygen_flag:\n",
    "                high_freq_bit = 0 if self.digit_totals[0][bit_idx] > self.digit_totals[1][bit_idx] else 1\n",
    "                self.filter_data(high_freq_bit, bit_idx) \n",
    "            else:\n",
    "                high_freq_bit = 1 if self.digit_totals[0][bit_idx] > self.digit_totals[1][bit_idx] else 0\n",
    "                self.filter_data(high_freq_bit, bit_idx)             \n",
    "        \n",
    "        if oxygen_flag:\n",
    "            self.oxygen = int(self.filtered_data[0], 2)\n",
    "            print(f'oxygen: {self.oxygen}')\n",
    "        else:\n",
    "            self.co2 = int(self.filtered_data[0], 2)\n",
    "            print(f'co2: {self.co2}')        "
   ]
  },
  {
   "cell_type": "code",
   "execution_count": 4,
   "id": "e6f15136",
   "metadata": {},
   "outputs": [
    {
     "name": "stdout",
     "output_type": "stream",
     "text": [
      "gamma: [0 1 0 0 1] \n",
      "epsilon: [1 0 1 1 0]\n",
      "gamma: 9\n",
      "epsilon: 22\n",
      "Part 1 solution = 198\n"
     ]
    }
   ],
   "source": [
    "b_demo = BinaryDiagnostic(demo_data)\n",
    "b_demo.check_power_consumption()"
   ]
  },
  {
   "cell_type": "code",
   "execution_count": 5,
   "id": "b9945e68",
   "metadata": {},
   "outputs": [
    {
     "name": "stdout",
     "output_type": "stream",
     "text": [
      "gamma: [1 1 0 0 1 1 0 1 1 1 0 1] \n",
      "epsilon: [0 0 1 1 0 0 1 0 0 0 1 0]\n",
      "gamma: 3293\n",
      "epsilon: 802\n",
      "Part 1 solution = 2640986\n"
     ]
    }
   ],
   "source": [
    "with open(\"data/data-3.txt\", \"r\", encoding=\"utf-8\") as g:\n",
    "    data = g.read().split(\"\\n\")\n",
    "    \n",
    "b = BinaryDiagnostic(data)\n",
    "b.check_power_consumption()"
   ]
  },
  {
   "cell_type": "code",
   "execution_count": 6,
   "id": "9189a4ce",
   "metadata": {},
   "outputs": [
    {
     "name": "stdout",
     "output_type": "stream",
     "text": [
      "oxygen: 23\n"
     ]
    }
   ],
   "source": [
    "b_demo2 = BinaryDiagnostic(demo_data, gas_flag=True)\n",
    "b_demo2.check_life_support(oxygen_flag=True)"
   ]
  },
  {
   "cell_type": "code",
   "execution_count": 7,
   "id": "ea365572",
   "metadata": {},
   "outputs": [
    {
     "name": "stdout",
     "output_type": "stream",
     "text": [
      "co2: 10\n"
     ]
    }
   ],
   "source": [
    "b_demo2 = BinaryDiagnostic(demo_data, gas_flag=True)\n",
    "b_demo2.check_life_support(oxygen_flag=False)"
   ]
  },
  {
   "cell_type": "code",
   "execution_count": 8,
   "id": "0ae40742",
   "metadata": {},
   "outputs": [
    {
     "data": {
      "text/plain": [
       "230"
      ]
     },
     "execution_count": 8,
     "metadata": {},
     "output_type": "execute_result"
    }
   ],
   "source": [
    "23*10"
   ]
  },
  {
   "cell_type": "code",
   "execution_count": 9,
   "id": "9ddae2eb",
   "metadata": {},
   "outputs": [
    {
     "name": "stdout",
     "output_type": "stream",
     "text": [
      "oxygen: 1883\n"
     ]
    }
   ],
   "source": [
    "b2 = BinaryDiagnostic(data, gas_flag=True)\n",
    "b2.check_life_support(oxygen_flag=True)"
   ]
  },
  {
   "cell_type": "code",
   "execution_count": 10,
   "id": "194e90b3",
   "metadata": {},
   "outputs": [
    {
     "name": "stdout",
     "output_type": "stream",
     "text": [
      "co2: 3623\n"
     ]
    }
   ],
   "source": [
    "b2 = BinaryDiagnostic(data, gas_flag=True)\n",
    "b2.check_life_support(oxygen_flag=False)"
   ]
  },
  {
   "cell_type": "code",
   "execution_count": 11,
   "id": "52b5af28",
   "metadata": {},
   "outputs": [
    {
     "data": {
      "text/plain": [
       "6822109"
      ]
     },
     "execution_count": 11,
     "metadata": {},
     "output_type": "execute_result"
    }
   ],
   "source": [
    "1883*3623"
   ]
  },
  {
   "cell_type": "code",
   "execution_count": null,
   "id": "4f710078",
   "metadata": {},
   "outputs": [],
   "source": []
  }
 ],
 "metadata": {
  "kernelspec": {
   "display_name": "Python 3",
   "language": "python",
   "name": "python3"
  },
  "language_info": {
   "codemirror_mode": {
    "name": "ipython",
    "version": 3
   },
   "file_extension": ".py",
   "mimetype": "text/x-python",
   "name": "python",
   "nbconvert_exporter": "python",
   "pygments_lexer": "ipython3",
   "version": "3.8.12"
  }
 },
 "nbformat": 4,
 "nbformat_minor": 5
}

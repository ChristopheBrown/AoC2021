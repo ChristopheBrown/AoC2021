{
 "cells": [
  {
   "cell_type": "code",
   "execution_count": 1,
   "id": "fa20bf21",
   "metadata": {},
   "outputs": [],
   "source": [
    "class Submarine:\n",
    "    \n",
    "    def __init__(self, instruction_set, aim_flag=False, debug_flag=False):\n",
    "        self.instructions = instruction_set\n",
    "        self.aim_flag=aim_flag\n",
    "        self.depth=0\n",
    "        self.h_pos=0\n",
    "        self.aim=0\n",
    "        self.debug_flag=debug_flag\n",
    "        \n",
    "    def extract_int(self, instruction):\n",
    "        return [int(s) for s in instruction.split() if s.isdigit()][0]\n",
    "        \n",
    "    def change_elevation(self, instruction):\n",
    "        val = self.extract_int(instruction)\n",
    "        if 'down' in instruction:\n",
    "            self.depth += val\n",
    "        elif 'up' in instruction:\n",
    "            self.depth -= val\n",
    "            \n",
    "    def change_aim(self, instruction):\n",
    "        val = self.extract_int(instruction)\n",
    "        if 'down' in instruction:\n",
    "            if self.debug_flag:\n",
    "                print(f'increasing aim by {val}. New aim = {self.aim + val}')\n",
    "            self.aim += val\n",
    "        elif 'up' in instruction:\n",
    "            if self.debug_flag:\n",
    "                print(f'decreasing aim by {val}. New aim = {self.aim + val}')\n",
    "            self.aim -= val\n",
    "            \n",
    "    def advance_forward(self, instruction):\n",
    "        val = self.extract_int(instruction)\n",
    "        if self.debug_flag:\n",
    "                print(f'increasing h_pos by {val}. New h_pos = {self.aim + val}')\n",
    "        self.h_pos += val\n",
    "        \n",
    "        if self.aim_flag:\n",
    "            if self.debug_flag:\n",
    "                print(f'increasing depth by {self.aim * self.h_pos}. New depth = {self.depth + self.aim * val}')\n",
    "            self.depth += self.aim * val\n",
    "        \n",
    "    def traversal(self):\n",
    "        for instruction in self.instructions:\n",
    "            if 'forward' in instruction:\n",
    "                self.advance_forward(instruction)\n",
    "            elif self.aim_flag:\n",
    "                self.change_aim(instruction)\n",
    "            else:\n",
    "                self.change_elevation(instruction)\n",
    "                \n",
    "        print(f'Answer: {self.depth * self.h_pos}')\n",
    "    \n",
    "    "
   ]
  },
  {
   "cell_type": "code",
   "execution_count": 2,
   "id": "f81996af",
   "metadata": {},
   "outputs": [
    {
     "name": "stdout",
     "output_type": "stream",
     "text": [
      "increasing h_pos by 5. New h_pos = 5\n",
      "increasing depth by 0. New depth = 0\n",
      "increasing aim by 5. New aim = 5\n",
      "increasing h_pos by 8. New h_pos = 13\n",
      "increasing depth by 65. New depth = 40\n",
      "decreasing aim by 3. New aim = 8\n",
      "increasing aim by 8. New aim = 10\n",
      "increasing h_pos by 2. New h_pos = 12\n",
      "increasing depth by 150. New depth = 60\n",
      "Answer: 900\n"
     ]
    }
   ],
   "source": [
    "demo_data = [\n",
    "    'forward 5',\n",
    "    'down 5',\n",
    "    'forward 8',\n",
    "    'up 3',\n",
    "    'down 8',\n",
    "    'forward 2'\n",
    "]\n",
    "\n",
    "s2 = Submarine(demo_data, aim_flag=True, debug_flag=True)\n",
    "s2.traversal()"
   ]
  },
  {
   "cell_type": "code",
   "execution_count": 3,
   "id": "c35bbf71",
   "metadata": {},
   "outputs": [
    {
     "name": "stdout",
     "output_type": "stream",
     "text": [
      "Answer: 1936494\n"
     ]
    }
   ],
   "source": [
    "with open(\"data/data-2.txt\", \"r\", encoding=\"utf-8\") as g:\n",
    "    data = g.read().split(\"\\n\")\n",
    "    \n",
    "s = Submarine(data)\n",
    "s.traversal()"
   ]
  },
  {
   "cell_type": "code",
   "execution_count": 4,
   "id": "2ebc7b96",
   "metadata": {},
   "outputs": [
    {
     "name": "stdout",
     "output_type": "stream",
     "text": [
      "Answer: 1997106066\n"
     ]
    }
   ],
   "source": [
    "s2 = Submarine(data, aim_flag=True)\n",
    "s2.traversal()"
   ]
  },
  {
   "cell_type": "code",
   "execution_count": null,
   "id": "b3a8203d",
   "metadata": {},
   "outputs": [],
   "source": []
  }
 ],
 "metadata": {
  "kernelspec": {
   "display_name": "Python 3",
   "language": "python",
   "name": "python3"
  },
  "language_info": {
   "codemirror_mode": {
    "name": "ipython",
    "version": 3
   },
   "file_extension": ".py",
   "mimetype": "text/x-python",
   "name": "python",
   "nbconvert_exporter": "python",
   "pygments_lexer": "ipython3",
   "version": "3.8.12"
  }
 },
 "nbformat": 4,
 "nbformat_minor": 5
}

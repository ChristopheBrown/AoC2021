{
 "cells": [
  {
   "cell_type": "code",
   "execution_count": 1,
   "id": "2fc90936",
   "metadata": {},
   "outputs": [
    {
     "name": "stdout",
     "output_type": "stream",
     "text": [
      "increases = 1195\n",
      "decreases = 804\n"
     ]
    }
   ],
   "source": [
    "with open(\"data/data-1.txt\", \"r\", encoding=\"utf-8\") as g:\n",
    "    data = list(map(int, g.readlines()))\n",
    "    \n",
    "increases = 0\n",
    "decreases = 0\n",
    "\n",
    "for i in range(1,len(data)):\n",
    "    if data[i] > data[i-1]:\n",
    "        increases += 1\n",
    "    else:\n",
    "        decreases += 1\n",
    "        \n",
    "print(f'increases = {increases}')\n",
    "print(f'decreases = {decreases}')"
   ]
  },
  {
   "cell_type": "code",
   "execution_count": 2,
   "id": "1a58d3ed",
   "metadata": {},
   "outputs": [
    {
     "name": "stdout",
     "output_type": "stream",
     "text": [
      "2000\n",
      "increases = 1235\n",
      "decreases = 762\n"
     ]
    }
   ],
   "source": [
    "increases = 0\n",
    "decreases = 0\n",
    "    \n",
    "print(len(data))    \n",
    "\n",
    "for i in range(0,len(data)):\n",
    "    if i+2 < len(data)-1:\n",
    "        tik_sum = data[i] + data[i+1] + data[i+2]\n",
    "        tok_sum = data[i+1] + data[i+2] + data[i+3]\n",
    "\n",
    "        if tok_sum > tik_sum:\n",
    "            increases += 1\n",
    "        else:\n",
    "            decreases += 1\n",
    "\n",
    "print(f'increases = {increases}')\n",
    "print(f'decreases = {decreases}')"
   ]
  },
  {
   "cell_type": "code",
   "execution_count": null,
   "id": "7ec1f97c",
   "metadata": {},
   "outputs": [],
   "source": []
  },
  {
   "cell_type": "code",
   "execution_count": null,
   "id": "a68ff7a0",
   "metadata": {},
   "outputs": [],
   "source": []
  },
  {
   "cell_type": "code",
   "execution_count": null,
   "id": "6710b0ea",
   "metadata": {},
   "outputs": [],
   "source": []
  },
  {
   "cell_type": "code",
   "execution_count": null,
   "id": "7c7b4a00",
   "metadata": {},
   "outputs": [],
   "source": []
  },
  {
   "cell_type": "code",
   "execution_count": null,
   "id": "35153d7c",
   "metadata": {},
   "outputs": [],
   "source": []
  },
  {
   "cell_type": "code",
   "execution_count": null,
   "id": "e38a70c8",
   "metadata": {},
   "outputs": [],
   "source": []
  }
 ],
 "metadata": {
  "kernelspec": {
   "display_name": "Python 3",
   "language": "python",
   "name": "python3"
  },
  "language_info": {
   "codemirror_mode": {
    "name": "ipython",
    "version": 3
   },
   "file_extension": ".py",
   "mimetype": "text/x-python",
   "name": "python",
   "nbconvert_exporter": "python",
   "pygments_lexer": "ipython3",
   "version": "3.8.12"
  }
 },
 "nbformat": 4,
 "nbformat_minor": 5
}
